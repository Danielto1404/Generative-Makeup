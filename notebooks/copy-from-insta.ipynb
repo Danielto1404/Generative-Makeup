{
 "cells": [
  {
   "cell_type": "code",
   "execution_count": 1,
   "id": "3c894ff5",
   "metadata": {},
   "outputs": [],
   "source": [
    "import shutil\n",
    "import os\n",
    "\n",
    "from tqdm import tqdm"
   ]
  },
  {
   "cell_type": "code",
   "execution_count": 2,
   "id": "1ffd865c",
   "metadata": {},
   "outputs": [],
   "source": [
    "target = '../../makeup-crawler/data/images'\n",
    "source = '../../makeup-crawler/data/processed/'"
   ]
  },
  {
   "cell_type": "code",
   "execution_count": 3,
   "id": "79261613",
   "metadata": {},
   "outputs": [
    {
     "name": "stderr",
     "output_type": "stream",
     "text": [
      "100%|███████████████████████████████████████████████████████████████████████████████████████████████████████████████████████████████████████| 20/20 [00:03<00:00,  5.17it/s]\n"
     ]
    }
   ],
   "source": [
    "for folder in tqdm(os.listdir(source)):\n",
    "    if folder == 'all' or folder == '.DS_Store':\n",
    "        continue\n",
    "    \n",
    "    folder_path = os.path.join(source, folder, 'images')\n",
    "    for image in os.listdir(folder_path):\n",
    "        old_path = os.path.join(folder_path, image)\n",
    "        new_path = os.path.join(target, image)\n",
    "        shutil.copy(old_path, new_path)"
   ]
  },
  {
   "cell_type": "code",
   "execution_count": 4,
   "id": "e61a4691",
   "metadata": {},
   "outputs": [
    {
     "data": {
      "text/plain": [
       "1401"
      ]
     },
     "execution_count": 4,
     "metadata": {},
     "output_type": "execute_result"
    }
   ],
   "source": [
    "len(os.listdir(target))"
   ]
  },
  {
   "cell_type": "code",
   "execution_count": null,
   "id": "747bde2b",
   "metadata": {},
   "outputs": [],
   "source": []
  }
 ],
 "metadata": {
  "kernelspec": {
   "display_name": "Python 3 (ipykernel)",
   "language": "python",
   "name": "python3"
  },
  "language_info": {
   "codemirror_mode": {
    "name": "ipython",
    "version": 3
   },
   "file_extension": ".py",
   "mimetype": "text/x-python",
   "name": "python",
   "nbconvert_exporter": "python",
   "pygments_lexer": "ipython3",
   "version": "3.8.1"
  }
 },
 "nbformat": 4,
 "nbformat_minor": 5
}
