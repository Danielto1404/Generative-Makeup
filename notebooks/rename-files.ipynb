{
 "cells": [
  {
   "cell_type": "code",
   "execution_count": 1,
   "id": "7658c123",
   "metadata": {},
   "outputs": [],
   "source": [
    "import os"
   ]
  },
  {
   "cell_type": "code",
   "execution_count": 2,
   "id": "693efa0a",
   "metadata": {},
   "outputs": [],
   "source": [
    "files_path = '../../../Downloads/make-images/'"
   ]
  },
  {
   "cell_type": "code",
   "execution_count": 3,
   "id": "8c5985f6",
   "metadata": {},
   "outputs": [],
   "source": [
    "images = os.listdir(files_path)"
   ]
  },
  {
   "cell_type": "code",
   "execution_count": 4,
   "id": "335b9efa",
   "metadata": {},
   "outputs": [
    {
     "name": "stdout",
     "output_type": "stream",
     "text": [
      "1001.jpeg\n",
      "1210.png\n",
      "1211.png\n",
      "1212.jpeg\n",
      "1213.jpeg\n",
      "1214.jpeg\n",
      "1215.jpeg\n",
      "1216.jpeg\n",
      "1217.jpeg\n",
      "1218.jpeg\n",
      "1219.jpeg\n",
      "1220.jpeg\n",
      "1221.jpeg\n",
      "1222.jpeg\n",
      "1223.jpeg\n",
      "1224.jpeg\n",
      "1225.jpeg\n",
      "1226.jpeg\n",
      "1227.jpeg\n",
      "1228.jpeg\n",
      "1229.jpeg\n",
      "1230.jpeg\n",
      "1231.jpeg\n",
      "1232.jpeg\n",
      "1233.jpeg\n"
     ]
    }
   ],
   "source": [
    "for i, image in enumerate(sorted(images)):\n",
    "    old_path = os.path.join(files_path, image)\n",
    "    ext      = os.path.splitext(old_path)[-1]\n",
    "    new_path = os.path.join(files_path, f'{i:04d}{ext}')\n",
    "    os.rename(old_path, new_path)"
   ]
  },
  {
   "cell_type": "code",
   "execution_count": null,
   "id": "49ae05e8",
   "metadata": {},
   "outputs": [],
   "source": []
  }
 ],
 "metadata": {
  "kernelspec": {
   "display_name": "Python 3 (ipykernel)",
   "language": "python",
   "name": "python3"
  },
  "language_info": {
   "codemirror_mode": {
    "name": "ipython",
    "version": 3
   },
   "file_extension": ".py",
   "mimetype": "text/x-python",
   "name": "python",
   "nbconvert_exporter": "python",
   "pygments_lexer": "ipython3",
   "version": "3.8.1"
  }
 },
 "nbformat": 4,
 "nbformat_minor": 5
}
