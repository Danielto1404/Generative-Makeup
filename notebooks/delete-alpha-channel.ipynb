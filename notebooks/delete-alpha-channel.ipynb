{
 "cells": [
  {
   "cell_type": "code",
   "execution_count": 1,
   "id": "2c846a0a",
   "metadata": {},
   "outputs": [],
   "source": [
    "import numpy\n",
    "import os\n",
    "\n",
    "import matplotlib.pyplot as plt\n",
    "\n",
    "from tqdm import tqdm\n",
    "from PIL import Image"
   ]
  },
  {
   "cell_type": "code",
   "execution_count": 2,
   "id": "56359816",
   "metadata": {},
   "outputs": [],
   "source": [
    "target = 'new-make-crop-lower/'\n",
    "source = 'new-make-crop/'"
   ]
  },
  {
   "cell_type": "code",
   "execution_count": null,
   "id": "42c05391",
   "metadata": {},
   "outputs": [
    {
     "name": "stderr",
     "output_type": "stream",
     "text": [
      "deleting alpha channel:  12%|█▏        | 177/1458 [00:04<00:26, 48.06it/s]"
     ]
    }
   ],
   "source": [
    "for image_name in tqdm(os.listdir(source), desc='deleting alpha channel'):\n",
    "    path    = os.path.join(source, image_name)\n",
    "    image   = Image.open(path)\n",
    "    image   = numpy.asarray(image)\n",
    "    image   = image[:, :, :3]\n",
    "    name, _ = os.path.splitext(image_name)\n",
    "    dest    = os.path.join(target, name + '.jpg')\n",
    "    \n",
    "    plt.imsave(dest, image)"
   ]
  },
  {
   "cell_type": "code",
   "execution_count": null,
   "id": "4d2db56d",
   "metadata": {},
   "outputs": [],
   "source": [
    "from collections import Counter\n",
    "\n",
    "extensions = Counter()\n",
    "\n",
    "for image in tqdm(os.listdir(source)):\n",
    "    extension = os.path.splitext(image)[-1]\n",
    "    extensions.update([extension])"
   ]
  },
  {
   "cell_type": "code",
   "execution_count": null,
   "id": "dbb50ae4",
   "metadata": {},
   "outputs": [],
   "source": [
    "extensions"
   ]
  }
 ],
 "metadata": {
  "kernelspec": {
   "display_name": "Python 3 (ipykernel)",
   "language": "python",
   "name": "python3"
  },
  "language_info": {
   "codemirror_mode": {
    "name": "ipython",
    "version": 3
   },
   "file_extension": ".py",
   "mimetype": "text/x-python",
   "name": "python",
   "nbconvert_exporter": "python",
   "pygments_lexer": "ipython3",
   "version": "3.7.12"
  }
 },
 "nbformat": 4,
 "nbformat_minor": 5
}
